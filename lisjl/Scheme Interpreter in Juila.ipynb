{
 "cells": [
  {
   "cell_type": "code",
   "execution_count": 12,
   "id": "150e5751",
   "metadata": {},
   "outputs": [
    {
     "name": "stdout",
     "output_type": "stream",
     "text": [
      "\"Takes a string representing a scheme program, and splits it into tokens\"\n",
      "tokenize(text::String) = split(replace(text, \"(\" => \" ( \", \")\" => \" ) \"))\n",
      "\n",
      "\"Takes a string representing a scheme program, and parses it\"\n",
      "parseProgram(program::String) = parseTokens(tokenize(program))\n",
      "\n",
      "\"Takes a vector of tokens, and parses it \"\n",
      "function parseTokens(tokens::Vector)\n",
      "  if length(tokens) == 0 throw(error(\"Syntax Error - Unexpected EOF\")) end\n",
      "  token = popfirst!(tokens)\n",
      "  if token == \"(\"\n",
      "      L = []\n",
      "      while tokens[1] != \")\" push!(L, parseTokens(tokens)) end\n",
      "      popfirst!(tokens) # pop off ')'\n",
      "      return L\n",
      "  elseif token == \")\" throw(error(\"Syntax Error - Unexpected )\"))\n",
      "  else return atom(token)\n",
      "  end\n",
      "end\n",
      "\n",
      "\"Numbers become numbers; every other token is a symbol.\"\n",
      "function atom(token)\n",
      "    try return parse(Int64, token)\n",
      "    catch err\n",
      "        try return parse(Float64, token)\n",
      "        catch err\n",
      "            return String(token) # token is symbol\n",
      "        end\n",
      "    end\n",
      "end\n",
      "\n",
      "\"An environment: a dict of {'var':val} pairs, with an outer Env\"\n",
      "createEnv(table = Dict(), outer = Missing) = (table = table, outer = outer)\n",
      "\n",
      "\"Updates an environment table with a new dictionary\"\n",
      "updateEnv!(env, data) = merge!(env.table, data)\n",
      "\n",
      "\"Find the innermost Env where var appears.\"\n",
      "function searchEnv(var, env)\n",
      "  if var in keys(env.table) return env\n",
      "  else return searchEnv(var, env.outer)\n",
      "  end\n",
      "end\n",
      "\n",
      "\"\"\"A user-defined Scheme procedure.\"\"\"\n",
      "function createProc(parms, body, env)\n",
      "  function callProc(args...)\n",
      "    newenv = createEnv(Dict(zip(parms, args)), env)\n",
      "    return schemeEval(body, newenv)\n",
      "  end\n",
      "  return callProc\n",
      "end\n",
      "\n",
      "\"An environment with some Scheme standard procedures.\"\n",
      "function standardEnv()\n",
      "  env = createEnv()\n",
      "  baseFunctions = Dict(\n",
      "      \"+\"         =>  +, \n",
      "      \"-\"         =>  -, \n",
      "      \"*\"         =>  *, \n",
      "      \"/\"         =>  /, \n",
      "      \">\"         =>  >, \n",
      "      \"<\"         =>  <, \n",
      "      \">=\"        =>  >=, \n",
      "      \"<=\"        =>  <=, \n",
      "      \"=\"         =>  ==, \n",
      "      \"abs\"       =>  abs,\n",
      "      \"append\"    =>  push!,  \n",
      "      \"apply\"     =>  (proc, args) -> proc(args...),\n",
      "      \"begin\"     =>  (x...)  -> x[end],\n",
      "      \"car\"       =>  (x)     -> x[1],\n",
      "      \"cdr\"       =>  (x)     -> x[2:end], \n",
      "      \"cons\"      =>  (x,y)   -> [x,y...],\n",
      "      \"expt\"      =>  ^,\n",
      "      \"equal?\"    =>  ==, \n",
      "      \"length\"    =>  length, \n",
      "      \"list\"      =>  (x...)  -> collect(x), \n",
      "      \"list?\"     =>  (x)     -> typeof(x) <: Vector, \n",
      "      \"map\"       =>  map,\n",
      "      \"max\"       =>  max,\n",
      "      \"min\"       =>  min,\n",
      "      \"not\"       =>  !,\n",
      "      \"and\"       =>  (x, y)  -> x&&y,\n",
      "      \"or\"        =>  (x, y)  -> x||y,\n",
      "      \"null?\"     =>  (x)     -> length(x) == 0, \n",
      "      \"number?\"   =>  (x)     -> typeof(x) <: Int || typeof(x) <: Float,  \n",
      "      \"print\"     =>  print,\n",
      "      \"println\"   =>  println,\n",
      "      \"procedure?\"=> (x) -> typeof(x) <: Function,\n",
      "      \"round\"     =>  round,\n",
      "      \"symbol?\"   => x -> typeof(expression) <: String && expression[1] !='\"'\n",
      "  )\n",
      "  updateEnv!(env, baseFunctions)\n",
      "  return env\n",
      "end\n",
      "\n",
      "\"Evaluates a scheme expression in an environment.\"\n",
      "function schemeEval(expression, env)\n",
      "  # string literal, note that strings can't contain empty spaces given limitation with parser\n",
      "  if typeof(expression) <: String && expression[1] =='\"' return expression[2:end-1]\n",
      "  # variable reference\n",
      "  elseif typeof(expression) <: String && expression[1] !='\"' return searchEnv(expression, env).table[expression]\n",
      "  # constant number   \n",
      "  elseif typeof(expression) <: Number return expression\n",
      "  # list expression\n",
      "  elseif typeof(expression) <: Vector\n",
      "    operator, args... = expression\n",
      "    return schemeApply(operator, args, env)\n",
      "  else\n",
      "    throw(error(\"Syntax Error - Unexpected Expression\"))\n",
      "  end\n",
      "end\n",
      "\n",
      "function schemeApply(operator, args, env)\n",
      "  # quotation\n",
      "  if operator == \"quote\" \n",
      "    return args[1]\n",
      "  # conditional\n",
      "  elseif operator == \"if\"\n",
      "    (test, conseq, alt) = args\n",
      "    exp = schemeEval(test, env) ? conseq : alt\n",
      "    return schemeEval(exp, env)\n",
      "  # definition\n",
      "  elseif operator == \"define\"\n",
      "    (symbol, definition) = args\n",
      "    env.table[symbol] = schemeEval(definition, env)\n",
      "  # set\n",
      "  elseif operator == \"set!\"\n",
      "    (symbol, definition) = args\n",
      "    searchEnv(symbol, env).table[symbol] = schemeEval(definition, env)\n",
      "  # procedure\n",
      "  elseif operator == \"lambda\"     \n",
      "    (parms, body) = args\n",
      "    return createProc(parms, body, env)\n",
      "  # procedure call\n",
      "  else\n",
      "    proc = schemeEval(operator, env)\n",
      "    vals = [schemeEval(arg, env) for arg in args]\n",
      "    return proc(vals...)\n",
      "  end\n",
      "end\n",
      "\n",
      "evaluate(program) = schemeEval(parseTokens(tokenize(program)), standardEnv())\n"
     ]
    }
   ],
   "source": [
    "\"scheme.jl\" |> read |> String |> println"
   ]
  },
  {
   "cell_type": "code",
   "execution_count": 3,
   "id": "4e792949",
   "metadata": {},
   "outputs": [
    {
     "data": {
      "text/plain": [
       "evaluate (generic function with 1 method)"
      ]
     },
     "execution_count": 3,
     "metadata": {},
     "output_type": "execute_result"
    }
   ],
   "source": [
    "using BenchmarkTools\n",
    "include(\"./scheme.jl\")"
   ]
  },
  {
   "cell_type": "code",
   "execution_count": 8,
   "id": "f700b729",
   "metadata": {},
   "outputs": [
    {
     "data": {
      "text/plain": [
       "3628800"
      ]
     },
     "execution_count": 8,
     "metadata": {},
     "output_type": "execute_result"
    }
   ],
   "source": [
    "fact10 = \"\"\"\n",
    "(begin \n",
    "  (define fact (lambda (n) (if (<= n 1) 1 (* n (fact (- n 1))))))\n",
    "  (fact 10)\n",
    ")\n",
    "\"\"\"\n",
    "evaluate(fact10)"
   ]
  },
  {
   "cell_type": "code",
   "execution_count": 9,
   "id": "2e55e1bc",
   "metadata": {},
   "outputs": [
    {
     "data": {
      "text/plain": [
       "BenchmarkTools.Trial: 2313 samples with 1 evaluation.\n",
       " Range \u001b[90m(\u001b[39m\u001b[36m\u001b[1mmin\u001b[22m\u001b[39m … \u001b[35mmax\u001b[39m\u001b[90m):  \u001b[39m\u001b[36m\u001b[1m2.100 ms\u001b[22m\u001b[39m … \u001b[35m  5.452 ms\u001b[39m  \u001b[90m┊\u001b[39m GC \u001b[90m(\u001b[39mmin … max\u001b[90m): \u001b[39m0.00% … 58.95%\n",
       " Time  \u001b[90m(\u001b[39m\u001b[34m\u001b[1mmedian\u001b[22m\u001b[39m\u001b[90m):     \u001b[39m\u001b[34m\u001b[1m2.143 ms               \u001b[22m\u001b[39m\u001b[90m┊\u001b[39m GC \u001b[90m(\u001b[39mmedian\u001b[90m):    \u001b[39m0.00%\n",
       " Time  \u001b[90m(\u001b[39m\u001b[32m\u001b[1mmean\u001b[22m\u001b[39m ± \u001b[32mσ\u001b[39m\u001b[90m):   \u001b[39m\u001b[32m\u001b[1m2.161 ms\u001b[22m\u001b[39m ± \u001b[32m121.328 μs\u001b[39m  \u001b[90m┊\u001b[39m GC \u001b[90m(\u001b[39mmean ± σ\u001b[90m):  \u001b[39m0.17% ±  2.01%\n",
       "\n",
       "  \u001b[39m \u001b[39m \u001b[39m \u001b[39m \u001b[39m█\u001b[39m█\u001b[39m▁\u001b[39m \u001b[39m \u001b[39m \u001b[34m \u001b[39m\u001b[39m▁\u001b[39m \u001b[39m \u001b[32m \u001b[39m\u001b[39m \u001b[39m \u001b[39m \u001b[39m \u001b[39m \u001b[39m \u001b[39m \u001b[39m \u001b[39m \u001b[39m \u001b[39m \u001b[39m \u001b[39m \u001b[39m \u001b[39m \u001b[39m \u001b[39m \u001b[39m \u001b[39m \u001b[39m \u001b[39m \u001b[39m \u001b[39m \u001b[39m \u001b[39m \u001b[39m \u001b[39m \u001b[39m \u001b[39m \u001b[39m \u001b[39m \u001b[39m \u001b[39m \u001b[39m \u001b[39m \u001b[39m \u001b[39m \u001b[39m \u001b[39m \u001b[39m \u001b[39m \u001b[39m \u001b[39m \u001b[39m \u001b[39m \u001b[39m \n",
       "  \u001b[39m▄\u001b[39m▇\u001b[39m▄\u001b[39m▆\u001b[39m█\u001b[39m█\u001b[39m█\u001b[39m▇\u001b[39m▆\u001b[39m▆\u001b[34m▇\u001b[39m\u001b[39m█\u001b[39m▆\u001b[39m▆\u001b[32m▆\u001b[39m\u001b[39m▅\u001b[39m▅\u001b[39m▃\u001b[39m▃\u001b[39m▃\u001b[39m▂\u001b[39m▂\u001b[39m▃\u001b[39m▃\u001b[39m▃\u001b[39m▃\u001b[39m▃\u001b[39m▃\u001b[39m▂\u001b[39m▂\u001b[39m▂\u001b[39m▂\u001b[39m▂\u001b[39m▂\u001b[39m▁\u001b[39m▂\u001b[39m▁\u001b[39m▂\u001b[39m▁\u001b[39m▁\u001b[39m▁\u001b[39m▁\u001b[39m▁\u001b[39m▁\u001b[39m▂\u001b[39m▁\u001b[39m▁\u001b[39m▁\u001b[39m▁\u001b[39m▁\u001b[39m▁\u001b[39m▁\u001b[39m▁\u001b[39m▁\u001b[39m▁\u001b[39m▁\u001b[39m▁\u001b[39m▁\u001b[39m▁\u001b[39m \u001b[39m▂\n",
       "  2.1 ms\u001b[90m          Histogram: frequency by time\u001b[39m        2.35 ms \u001b[0m\u001b[1m<\u001b[22m\n",
       "\n",
       " Memory estimate\u001b[90m: \u001b[39m\u001b[33m58.27 KiB\u001b[39m, allocs estimate\u001b[90m: \u001b[39m\u001b[33m995\u001b[39m."
      ]
     },
     "execution_count": 9,
     "metadata": {},
     "output_type": "execute_result"
    }
   ],
   "source": [
    "@benchmark evaluate(fact10)"
   ]
  },
  {
   "cell_type": "code",
   "execution_count": 10,
   "id": "1caf6c79",
   "metadata": {},
   "outputs": [
    {
     "data": {
      "text/plain": [
       "1.4142135623754424"
      ]
     },
     "execution_count": 10,
     "metadata": {},
     "output_type": "execute_result"
    }
   ],
   "source": [
    "jazr2 =\"\"\"\n",
    "(begin\n",
    "  (define threshold 1e-6)\n",
    "  (define dx 1e-3)\n",
    "\n",
    "  (define newton (lambda (f guess)\n",
    "    (fixed-point (lambda (x) (- x (/ (f x) ((derive f threshold) x)))) guess)))\n",
    "\n",
    "  (define derive (lambda (f dx)\n",
    "    (lambda (x) (/ (- (f (+ x dx)) (f x)) dx))))\n",
    "\n",
    "  (define close-enough? (lambda (x y)\n",
    "    (< (abs (- x y)) threshold)))\n",
    "    \n",
    "  (define fixed-point (lambda (f n)\n",
    "    (if (close-enough? n (f n))\n",
    "        n\n",
    "        (fixed-point f (f n)))))\n",
    "\n",
    "  (define jazr (lambda (y)\n",
    "    (newton (lambda (x) (- y (* x x)))  1.0)))\n",
    "\n",
    "  (jazr 2)\n",
    ")\n",
    "\"\"\"\n",
    "\n",
    "evaluate(jazr2)"
   ]
  },
  {
   "cell_type": "code",
   "execution_count": 11,
   "id": "d959e3e3",
   "metadata": {},
   "outputs": [
    {
     "data": {
      "text/plain": [
       "BenchmarkTools.Trial: 391 samples with 1 evaluation.\n",
       " Range \u001b[90m(\u001b[39m\u001b[36m\u001b[1mmin\u001b[22m\u001b[39m … \u001b[35mmax\u001b[39m\u001b[90m):  \u001b[39m\u001b[36m\u001b[1m12.310 ms\u001b[22m\u001b[39m … \u001b[35m31.909 ms\u001b[39m  \u001b[90m┊\u001b[39m GC \u001b[90m(\u001b[39mmin … max\u001b[90m): \u001b[39m0.00% … 0.00%\n",
       " Time  \u001b[90m(\u001b[39m\u001b[34m\u001b[1mmedian\u001b[22m\u001b[39m\u001b[90m):     \u001b[39m\u001b[34m\u001b[1m12.620 ms              \u001b[22m\u001b[39m\u001b[90m┊\u001b[39m GC \u001b[90m(\u001b[39mmedian\u001b[90m):    \u001b[39m0.00%\n",
       " Time  \u001b[90m(\u001b[39m\u001b[32m\u001b[1mmean\u001b[22m\u001b[39m ± \u001b[32mσ\u001b[39m\u001b[90m):   \u001b[39m\u001b[32m\u001b[1m12.794 ms\u001b[22m\u001b[39m ± \u001b[32m 1.267 ms\u001b[39m  \u001b[90m┊\u001b[39m GC \u001b[90m(\u001b[39mmean ± σ\u001b[90m):  \u001b[39m0.17% ± 1.79%\n",
       "\n",
       "  \u001b[39m▇\u001b[39m▆\u001b[39m▆\u001b[34m█\u001b[39m\u001b[39m▆\u001b[32m▃\u001b[39m\u001b[39m \u001b[39m \u001b[39m \u001b[39m \u001b[39m \u001b[39m \u001b[39m \u001b[39m \u001b[39m \u001b[39m \u001b[39m \u001b[39m \u001b[39m \u001b[39m \u001b[39m \u001b[39m \u001b[39m \u001b[39m \u001b[39m \u001b[39m \u001b[39m \u001b[39m \u001b[39m \u001b[39m \u001b[39m \u001b[39m \u001b[39m \u001b[39m \u001b[39m \u001b[39m \u001b[39m \u001b[39m \u001b[39m \u001b[39m \u001b[39m \u001b[39m \u001b[39m \u001b[39m \u001b[39m \u001b[39m \u001b[39m \u001b[39m \u001b[39m \u001b[39m \u001b[39m \u001b[39m \u001b[39m \u001b[39m \u001b[39m \u001b[39m \u001b[39m \u001b[39m \u001b[39m \u001b[39m \u001b[39m \n",
       "  \u001b[39m█\u001b[39m█\u001b[39m█\u001b[34m█\u001b[39m\u001b[39m█\u001b[32m█\u001b[39m\u001b[39m▇\u001b[39m▇\u001b[39m▇\u001b[39m▅\u001b[39m▄\u001b[39m▄\u001b[39m▄\u001b[39m▁\u001b[39m▁\u001b[39m▅\u001b[39m▄\u001b[39m▄\u001b[39m▅\u001b[39m▄\u001b[39m▁\u001b[39m▁\u001b[39m▄\u001b[39m▄\u001b[39m▄\u001b[39m▁\u001b[39m▁\u001b[39m▁\u001b[39m▁\u001b[39m▁\u001b[39m▄\u001b[39m▁\u001b[39m▁\u001b[39m▁\u001b[39m▁\u001b[39m▁\u001b[39m▁\u001b[39m▄\u001b[39m▄\u001b[39m▁\u001b[39m▁\u001b[39m▄\u001b[39m▁\u001b[39m▁\u001b[39m▁\u001b[39m▁\u001b[39m▁\u001b[39m▁\u001b[39m▁\u001b[39m▁\u001b[39m▁\u001b[39m▁\u001b[39m▁\u001b[39m▁\u001b[39m▁\u001b[39m▁\u001b[39m▁\u001b[39m▁\u001b[39m▄\u001b[39m \u001b[39m▆\n",
       "  12.3 ms\u001b[90m      \u001b[39m\u001b[90mHistogram: \u001b[39m\u001b[90m\u001b[1mlog(\u001b[22m\u001b[39m\u001b[90mfrequency\u001b[39m\u001b[90m\u001b[1m)\u001b[22m\u001b[39m\u001b[90m by time\u001b[39m      18.2 ms \u001b[0m\u001b[1m<\u001b[22m\n",
       "\n",
       " Memory estimate\u001b[90m: \u001b[39m\u001b[33m290.86 KiB\u001b[39m, allocs estimate\u001b[90m: \u001b[39m\u001b[33m5526\u001b[39m."
      ]
     },
     "execution_count": 11,
     "metadata": {},
     "output_type": "execute_result"
    }
   ],
   "source": [
    "@benchmark evaluate(jazr2)"
   ]
  },
  {
   "cell_type": "code",
   "execution_count": 12,
   "id": "99852c36",
   "metadata": {},
   "outputs": [
    {
     "name": "stdout",
     "output_type": "stream",
     "text": [
      "Move_1_from_A_to_B\n",
      "Move_2_from_A_to_C\n",
      "Move_1_from_B_to_C\n",
      "Move_3_from_A_to_B\n",
      "Move_1_from_C_to_A\n",
      "Move_2_from_C_to_B\n",
      "Move_1_from_A_to_B\n"
     ]
    },
    {
     "data": {
      "text/plain": [
       "\"Done_Moving\""
      ]
     },
     "execution_count": 12,
     "metadata": {},
     "output_type": "execute_result"
    }
   ],
   "source": [
    "towersofhanoi3 = \"\"\"\n",
    "(begin\n",
    "  (define move (lambda (n from to spare)\n",
    "    (if \n",
    "      (= 0 n) \"Done_Moving\"\n",
    "      (begin\n",
    "        (move (- n 1) from spare to)\n",
    "        (println \"Move_\" n \"_from_\" from \"_to_\" to)\n",
    "        (move (- n 1) spare to from)\n",
    "      )\n",
    "    ))\n",
    ")\n",
    "  (move 3 \"A\" \"B\" \"C\")\n",
    ")\n",
    "\"\"\"\n",
    "evaluate(towersofhanoi3)"
   ]
  },
  {
   "cell_type": "code",
   "execution_count": 13,
   "id": "8999fa9e",
   "metadata": {
    "scrolled": true
   },
   "outputs": [
    {
     "data": {
      "text/plain": [
       "3-element Vector{Any}:\n",
       "  \"+\"\n",
       "  [\"+\", \"x\", \"x\"]\n",
       " 2"
      ]
     },
     "execution_count": 13,
     "metadata": {},
     "output_type": "execute_result"
    }
   ],
   "source": [
    "deriv_x_square_plus_2x = \"\"\"\n",
    "(begin\n",
    "  (define deriv (lambda (exp var)\n",
    "    (if (constant? exp var) 0\n",
    "        (if  (same-var? exp var) 1\n",
    "             (if (sum? exp) (make-sum (deriv (a1 exp) var) (deriv (a2 exp) var))\n",
    "                 (if (product? exp) (make-sum\n",
    "                           (make-product (m1 exp) (deriv (m2 exp) var))\n",
    "                           (make-product (m2 exp) (deriv (m1 exp) var)))\n",
    "                     \"ERROR\"))))))\n",
    "         \n",
    "  (define atomic? (lambda (exp) (not (list? exp))))\n",
    "\n",
    "  (define constant? (lambda (exp var) (and (atomic? exp) (not (equal? exp var)))))\n",
    "\n",
    "  (define same-var? (lambda (exp var) (and (atomic? exp) (equal? exp var))))\n",
    "\n",
    "  (define sum? (lambda (exp) (and (list? exp) (equal? (car exp) (quote +)))))\n",
    "\n",
    "  (define product? (lambda (exp) (and (list? exp) (equal? (car exp) (quote *)))))\n",
    "\n",
    "  (define make-sum (lambda (a1 a2)\n",
    "    (if (equal? a1 0) a2\n",
    "        (if (equal? a2 0) a1\n",
    "            (list (quote +) a1 a2)))))\n",
    "  \n",
    "  (define make-product (lambda (m1 m2)\n",
    "    (if (equal? m1 1) m2\n",
    "        (if (equal? m2 1) m1\n",
    "            (if (or (equal? m1 0) (equal? m2 0)) 0\n",
    "                (list (quote *) m1 m2))))))\n",
    "\n",
    "  (define a1 (lambda (l) (car (cdr l))))\n",
    "\n",
    "  (define a2 (lambda (l) (car (cdr (cdr l)))))\n",
    "\n",
    "  (define m1 a1)\n",
    "\n",
    "  (define m2 a2)\n",
    "\n",
    "  (deriv (quote (+ (* x x) (* 2 x))) (quote x))\n",
    ")\n",
    "\"\"\"\n",
    "evaluate(deriv_x_square_plus_2x)"
   ]
  },
  {
   "cell_type": "code",
   "execution_count": 14,
   "id": "b7a739f5",
   "metadata": {},
   "outputs": [
    {
     "data": {
      "text/plain": [
       "BenchmarkTools.Trial: 178 samples with 1 evaluation.\n",
       " Range \u001b[90m(\u001b[39m\u001b[36m\u001b[1mmin\u001b[22m\u001b[39m … \u001b[35mmax\u001b[39m\u001b[90m):  \u001b[39m\u001b[36m\u001b[1m27.645 ms\u001b[22m\u001b[39m … \u001b[35m 30.583 ms\u001b[39m  \u001b[90m┊\u001b[39m GC \u001b[90m(\u001b[39mmin … max\u001b[90m): \u001b[39m0.00% … 7.93%\n",
       " Time  \u001b[90m(\u001b[39m\u001b[34m\u001b[1mmedian\u001b[22m\u001b[39m\u001b[90m):     \u001b[39m\u001b[34m\u001b[1m28.104 ms               \u001b[22m\u001b[39m\u001b[90m┊\u001b[39m GC \u001b[90m(\u001b[39mmedian\u001b[90m):    \u001b[39m0.00%\n",
       " Time  \u001b[90m(\u001b[39m\u001b[32m\u001b[1mmean\u001b[22m\u001b[39m ± \u001b[32mσ\u001b[39m\u001b[90m):   \u001b[39m\u001b[32m\u001b[1m28.156 ms\u001b[22m\u001b[39m ± \u001b[32m316.430 μs\u001b[39m  \u001b[90m┊\u001b[39m GC \u001b[90m(\u001b[39mmean ± σ\u001b[90m):  \u001b[39m0.05% ± 0.59%\n",
       "\n",
       "  \u001b[39m \u001b[39m \u001b[39m \u001b[39m \u001b[39m \u001b[39m \u001b[39m \u001b[39m \u001b[39m▂\u001b[39m▂\u001b[39m▂\u001b[39m▁\u001b[39m \u001b[39m▅\u001b[39m▆\u001b[34m▁\u001b[39m\u001b[32m█\u001b[39m\u001b[39m▂\u001b[39m \u001b[39m \u001b[39m \u001b[39m \u001b[39m \u001b[39m \u001b[39m \u001b[39m \u001b[39m \u001b[39m \u001b[39m \u001b[39m \u001b[39m \u001b[39m \u001b[39m \u001b[39m \u001b[39m \u001b[39m \u001b[39m \u001b[39m \u001b[39m \u001b[39m \u001b[39m \u001b[39m \u001b[39m \u001b[39m \u001b[39m \u001b[39m \u001b[39m \u001b[39m \u001b[39m \u001b[39m \u001b[39m \u001b[39m \u001b[39m \u001b[39m \u001b[39m \u001b[39m \u001b[39m \u001b[39m \u001b[39m \u001b[39m \u001b[39m \u001b[39m \n",
       "  \u001b[39m▃\u001b[39m▃\u001b[39m▁\u001b[39m▃\u001b[39m▃\u001b[39m▁\u001b[39m▄\u001b[39m▅\u001b[39m█\u001b[39m█\u001b[39m█\u001b[39m█\u001b[39m▆\u001b[39m█\u001b[39m█\u001b[34m█\u001b[39m\u001b[32m█\u001b[39m\u001b[39m█\u001b[39m█\u001b[39m▆\u001b[39m▆\u001b[39m▃\u001b[39m▅\u001b[39m▁\u001b[39m▁\u001b[39m▁\u001b[39m▃\u001b[39m▁\u001b[39m▁\u001b[39m▃\u001b[39m▃\u001b[39m▃\u001b[39m▃\u001b[39m▃\u001b[39m▁\u001b[39m▃\u001b[39m▁\u001b[39m▃\u001b[39m▁\u001b[39m▃\u001b[39m▁\u001b[39m▁\u001b[39m▁\u001b[39m▁\u001b[39m▁\u001b[39m▁\u001b[39m▁\u001b[39m▃\u001b[39m▁\u001b[39m▁\u001b[39m▁\u001b[39m▁\u001b[39m▁\u001b[39m▁\u001b[39m▁\u001b[39m▁\u001b[39m▁\u001b[39m▁\u001b[39m▁\u001b[39m▃\u001b[39m \u001b[39m▃\n",
       "  27.6 ms\u001b[90m         Histogram: frequency by time\u001b[39m         29.5 ms \u001b[0m\u001b[1m<\u001b[22m\n",
       "\n",
       " Memory estimate\u001b[90m: \u001b[39m\u001b[33m424.53 KiB\u001b[39m, allocs estimate\u001b[90m: \u001b[39m\u001b[33m8286\u001b[39m."
      ]
     },
     "execution_count": 14,
     "metadata": {},
     "output_type": "execute_result"
    }
   ],
   "source": [
    "@benchmark evaluate(deriv_x_square_plus_2x)"
   ]
  },
  {
   "cell_type": "code",
   "execution_count": 15,
   "id": "a80e28f3",
   "metadata": {},
   "outputs": [
    {
     "data": {
      "text/plain": [
       "89"
      ]
     },
     "execution_count": 15,
     "metadata": {},
     "output_type": "execute_result"
    }
   ],
   "source": [
    "fibs10 = \"\"\"\n",
    "(begin\n",
    "  (define fib (lambda (n) (if (< n 2) 1 (+ (fib (- n 1)) (fib (- n 2))))))\n",
    "  (fib 10)\n",
    ")\n",
    "\"\"\"\n",
    "evaluate(fibs10)"
   ]
  },
  {
   "cell_type": "code",
   "execution_count": 16,
   "id": "220b162c",
   "metadata": {},
   "outputs": [
    {
     "data": {
      "text/plain": [
       "BenchmarkTools.Trial: 1732 samples with 1 evaluation.\n",
       " Range \u001b[90m(\u001b[39m\u001b[36m\u001b[1mmin\u001b[22m\u001b[39m … \u001b[35mmax\u001b[39m\u001b[90m):  \u001b[39m\u001b[36m\u001b[1m2.757 ms\u001b[22m\u001b[39m … \u001b[35m  6.354 ms\u001b[39m  \u001b[90m┊\u001b[39m GC \u001b[90m(\u001b[39mmin … max\u001b[90m): \u001b[39m0.00% … 53.19%\n",
       " Time  \u001b[90m(\u001b[39m\u001b[34m\u001b[1mmedian\u001b[22m\u001b[39m\u001b[90m):     \u001b[39m\u001b[34m\u001b[1m2.842 ms               \u001b[22m\u001b[39m\u001b[90m┊\u001b[39m GC \u001b[90m(\u001b[39mmedian\u001b[90m):    \u001b[39m0.00%\n",
       " Time  \u001b[90m(\u001b[39m\u001b[32m\u001b[1mmean\u001b[22m\u001b[39m ± \u001b[32mσ\u001b[39m\u001b[90m):   \u001b[39m\u001b[32m\u001b[1m2.885 ms\u001b[22m\u001b[39m ± \u001b[32m244.380 μs\u001b[39m  \u001b[90m┊\u001b[39m GC \u001b[90m(\u001b[39mmean ± σ\u001b[90m):  \u001b[39m0.72% ±  4.18%\n",
       "\n",
       "  \u001b[39m▁\u001b[39m▁\u001b[39m▂\u001b[39m▂\u001b[39m \u001b[39m▁\u001b[39m▄\u001b[39m▅\u001b[39m▇\u001b[39m█\u001b[34m▇\u001b[39m\u001b[39m▆\u001b[39m▅\u001b[39m▅\u001b[39m▄\u001b[39m▄\u001b[32m▃\u001b[39m\u001b[39m▃\u001b[39m▁\u001b[39m▁\u001b[39m \u001b[39m \u001b[39m▁\u001b[39m▁\u001b[39m \u001b[39m▁\u001b[39m \u001b[39m \u001b[39m \u001b[39m \u001b[39m \u001b[39m \u001b[39m \u001b[39m \u001b[39m \u001b[39m \u001b[39m \u001b[39m \u001b[39m \u001b[39m \u001b[39m \u001b[39m \u001b[39m \u001b[39m \u001b[39m \u001b[39m \u001b[39m \u001b[39m \u001b[39m \u001b[39m \u001b[39m \u001b[39m \u001b[39m \u001b[39m \u001b[39m \u001b[39m \u001b[39m \u001b[39m \u001b[39m \u001b[39m \u001b[39m▁\n",
       "  \u001b[39m█\u001b[39m█\u001b[39m█\u001b[39m█\u001b[39m█\u001b[39m█\u001b[39m█\u001b[39m█\u001b[39m█\u001b[39m█\u001b[34m█\u001b[39m\u001b[39m█\u001b[39m█\u001b[39m█\u001b[39m█\u001b[39m█\u001b[32m█\u001b[39m\u001b[39m█\u001b[39m█\u001b[39m█\u001b[39m█\u001b[39m█\u001b[39m█\u001b[39m█\u001b[39m█\u001b[39m█\u001b[39m▇\u001b[39m▇\u001b[39m▆\u001b[39m▇\u001b[39m█\u001b[39m█\u001b[39m▇\u001b[39m▇\u001b[39m▇\u001b[39m▇\u001b[39m█\u001b[39m▅\u001b[39m▄\u001b[39m▆\u001b[39m▆\u001b[39m▆\u001b[39m▅\u001b[39m▅\u001b[39m▅\u001b[39m▇\u001b[39m▄\u001b[39m▄\u001b[39m▁\u001b[39m▄\u001b[39m▄\u001b[39m▁\u001b[39m▅\u001b[39m▄\u001b[39m▄\u001b[39m▁\u001b[39m▁\u001b[39m▄\u001b[39m▅\u001b[39m \u001b[39m█\n",
       "  2.76 ms\u001b[90m      \u001b[39m\u001b[90mHistogram: \u001b[39m\u001b[90m\u001b[1mlog(\u001b[22m\u001b[39m\u001b[90mfrequency\u001b[39m\u001b[90m\u001b[1m)\u001b[22m\u001b[39m\u001b[90m by time\u001b[39m      3.24 ms \u001b[0m\u001b[1m<\u001b[22m\n",
       "\n",
       " Memory estimate\u001b[90m: \u001b[39m\u001b[33m396.52 KiB\u001b[39m, allocs estimate\u001b[90m: \u001b[39m\u001b[33m8047\u001b[39m."
      ]
     },
     "execution_count": 16,
     "metadata": {},
     "output_type": "execute_result"
    }
   ],
   "source": [
    "@benchmark evaluate(fibs10)"
   ]
  },
  {
   "cell_type": "code",
   "execution_count": null,
   "id": "0aec918a",
   "metadata": {},
   "outputs": [],
   "source": []
  }
 ],
 "metadata": {
  "@webio": {
   "lastCommId": null,
   "lastKernelId": null
  },
  "kernelspec": {
   "display_name": "Julia 1.7.1",
   "language": "julia",
   "name": "julia-1.7"
  },
  "language_info": {
   "file_extension": ".jl",
   "mimetype": "application/julia",
   "name": "julia",
   "version": "1.7.1"
  }
 },
 "nbformat": 4,
 "nbformat_minor": 5
}
