{
 "cells": [
  {
   "cell_type": "code",
   "execution_count": 1,
   "metadata": {},
   "outputs": [],
   "source": [
    "from lis import evaluate"
   ]
  },
  {
   "cell_type": "code",
   "execution_count": 2,
   "metadata": {},
   "outputs": [
    {
     "data": {
      "text/plain": [
       "314.1592653589793"
      ]
     },
     "execution_count": 2,
     "metadata": {},
     "output_type": "execute_result"
    }
   ],
   "source": [
    "p1 = \"(begin (define r 10) (* pi (* r r)))\"\n",
    "evaluate(p1)"
   ]
  },
  {
   "cell_type": "code",
   "execution_count": 3,
   "metadata": {},
   "outputs": [
    {
     "data": {
      "text/plain": [
       "1"
      ]
     },
     "execution_count": 3,
     "metadata": {},
     "output_type": "execute_result"
    }
   ],
   "source": [
    "p2 = (\"(car (list 1 2 3 4))\")\n",
    "evaluate(p2)"
   ]
  },
  {
   "cell_type": "code",
   "execution_count": 4,
   "metadata": {},
   "outputs": [
    {
     "name": "stdout",
     "output_type": "stream",
     "text": [
      "1.29 ms ± 4.99 µs per loop (mean ± std. dev. of 7 runs, 1000 loops each)\n"
     ]
    },
    {
     "data": {
      "text/plain": [
       "93326215443944152681699238856266700490715968264381621468592963895217599993229915608941463976156518286253697920827223758251185210916864000000000000000000000000"
      ]
     },
     "execution_count": 4,
     "metadata": {},
     "output_type": "execute_result"
    }
   ],
   "source": [
    "p3 = \"\"\"\n",
    "(begin \n",
    "  (define fact (lambda (n) (if (<= n 1) 1 (* n (fact (- n 1))))))\n",
    "  (fact 100)\n",
    ")\n",
    "\"\"\"\n",
    "%timeit evaluate(p3)\n",
    "evaluate(p3)"
   ]
  },
  {
   "cell_type": "code",
   "execution_count": 5,
   "metadata": {},
   "outputs": [
    {
     "name": "stdout",
     "output_type": "stream",
     "text": [
      "13.2 µs ± 174 ns per loop (mean ± std. dev. of 7 runs, 100000 loops each)\n"
     ]
    },
    {
     "data": {
      "text/plain": [
       "93326215443944152681699238856266700490715968264381621468592963895217599993229915608941463976156518286253697920827223758251185210916864000000000000000000000000"
      ]
     },
     "execution_count": 5,
     "metadata": {},
     "output_type": "execute_result"
    }
   ],
   "source": [
    "fact = lambda n: 1 if n<=1 else n * fact(n-1)\n",
    "%timeit fact(100)\n",
    "fact(100)\n"
   ]
  },
  {
   "cell_type": "code",
   "execution_count": 6,
   "metadata": {},
   "outputs": [
    {
     "data": {
      "text/plain": [
       "20"
      ]
     },
     "execution_count": 6,
     "metadata": {},
     "output_type": "execute_result"
    }
   ],
   "source": [
    "p4 = \"\"\"\n",
    "(begin \n",
    "  (define twice (lambda (x) (* 2 x)))\n",
    "  (twice 10)\n",
    ")\n",
    "\"\"\"\n",
    "\n",
    "evaluate(p4)"
   ]
  },
  {
   "cell_type": "code",
   "execution_count": 7,
   "metadata": {},
   "outputs": [
    {
     "name": "stdout",
     "output_type": "stream",
     "text": [
      "1.87 ms ± 8.49 µs per loop (mean ± std. dev. of 7 runs, 1000 loops each)\n"
     ]
    },
    {
     "data": {
      "text/plain": [
       "89"
      ]
     },
     "execution_count": 7,
     "metadata": {},
     "output_type": "execute_result"
    }
   ],
   "source": [
    "p5 = \"\"\"\n",
    "(begin\n",
    "  (define fib (lambda (n) (if (< n 2) 1 (+ (fib (- n 1)) (fib (- n 2))))))\n",
    "  (fib 10)\n",
    ")\n",
    "\"\"\"\n",
    "%timeit evaluate(p5)\n",
    "evaluate(p5)"
   ]
  },
  {
   "cell_type": "code",
   "execution_count": 8,
   "metadata": {},
   "outputs": [
    {
     "name": "stdout",
     "output_type": "stream",
     "text": [
      "13.7 µs ± 144 ns per loop (mean ± std. dev. of 7 runs, 100000 loops each)\n"
     ]
    },
    {
     "data": {
      "text/plain": [
       "89"
      ]
     },
     "execution_count": 8,
     "metadata": {},
     "output_type": "execute_result"
    }
   ],
   "source": [
    "fib = lambda n: 1 if n < 2 else fib(n - 1) + fib (n - 2)\n",
    "%timeit fib(10)\n",
    "fib(10)"
   ]
  },
  {
   "cell_type": "code",
   "execution_count": 9,
   "metadata": {},
   "outputs": [
    {
     "name": "stdout",
     "output_type": "stream",
     "text": [
      "['\"Move\"', 1, '\"from\"', '\"One\"', '\"to\"', '\"Three\"']\n",
      "['\"Move\"', 2, '\"from\"', '\"One\"', '\"to\"', '\"Two\"']\n",
      "['\"Move\"', 1, '\"from\"', '\"Three\"', '\"to\"', '\"Two\"']\n",
      "['\"Move\"', 3, '\"from\"', '\"One\"', '\"to\"', '\"Three\"']\n",
      "['\"Move\"', 1, '\"from\"', '\"Two\"', '\"to\"', '\"One\"']\n",
      "['\"Move\"', 2, '\"from\"', '\"Two\"', '\"to\"', '\"Three\"']\n",
      "['\"Move\"', 1, '\"from\"', '\"One\"', '\"to\"', '\"Three\"']\n"
     ]
    },
    {
     "data": {
      "text/plain": [
       "'\"Done_Moving\"'"
      ]
     },
     "execution_count": 9,
     "metadata": {},
     "output_type": "execute_result"
    }
   ],
   "source": [
    "p6 = \"\"\"\n",
    "(begin\n",
    "  (define move (lambda (n from to spare)\n",
    "    (if \n",
    "      (= 0 n) \"Done_Moving\"\n",
    "      (begin\n",
    "        (move (- n 1) from spare to)\n",
    "        (print (list \"Move\" n \"from\" from \"to\" to))\n",
    "        (move (- n 1) spare to from)\n",
    "      )\n",
    "    ))\n",
    ")\n",
    "  (move 3 \"One\" \"Three\" \"Two\")\n",
    ")\n",
    "\"\"\"\n",
    "\n",
    "evaluate(p6)"
   ]
  },
  {
   "cell_type": "code",
   "execution_count": 10,
   "metadata": {},
   "outputs": [
    {
     "data": {
      "text/plain": [
       "1.4142135623754424"
      ]
     },
     "execution_count": 10,
     "metadata": {},
     "output_type": "execute_result"
    }
   ],
   "source": [
    "p7 =\"\"\"\n",
    "(begin\n",
    "  (define threshold 1e-6)\n",
    "  (define dx 1e-3)\n",
    "  \n",
    "  (define newton (lambda (f guess)\n",
    "    (fixed-point (lambda (x) (- x (/ (f x) ((derive f threshold) x)))) guess)))\n",
    "\n",
    "  (define derive (lambda (f dx)\n",
    "    (lambda (x) (/ (- (f (+ x dx)) (f x)) dx))))\n",
    "\n",
    "  (define close-enough? (lambda (x y)\n",
    "    (< (abs (- x y)) threshold)))\n",
    "    \n",
    "  (define fixed-point (lambda (f n)\n",
    "    (if (close-enough? n (f n))\n",
    "        n\n",
    "        (fixed-point f (f n)))))\n",
    "\n",
    "  (define jazr (lambda (y)\n",
    "    (newton (lambda (x) (- y (* x x)))  1.0)))\n",
    "\n",
    "  (jazr 2)\n",
    ")\n",
    "\"\"\"\n",
    "\n",
    "evaluate(p7)"
   ]
  },
  {
   "cell_type": "code",
   "execution_count": 11,
   "metadata": {},
   "outputs": [
    {
     "data": {
      "text/plain": [
       "['+', ['+', 'x', 'x'], 2]"
      ]
     },
     "execution_count": 11,
     "metadata": {},
     "output_type": "execute_result"
    }
   ],
   "source": [
    "p8 = \"\"\"\n",
    "(begin\n",
    "  (define deriv (lambda (exp var)\n",
    "    (if (constant? exp var) 0\n",
    "        (if  (same-var? exp var) 1\n",
    "             (if (sum? exp) (make-sum (deriv (a1 exp) var) (deriv (a2 exp) var))\n",
    "                 (if (product? exp) (make-sum\n",
    "                           (make-product (m1 exp) (deriv (m2 exp) var))\n",
    "                           (make-product (m2 exp) (deriv (m1 exp) var)))\n",
    "                     \"ERROR\"))))))\n",
    "         \n",
    "  (define atomic? (lambda (exp) (not (list? exp))))\n",
    "\n",
    "  (define constant? (lambda (exp var) (and (atomic? exp) (not (equal? exp var)))))\n",
    "\n",
    "  (define same-var? (lambda (exp var) (and (atomic? exp) (equal? exp var))))\n",
    "\n",
    "  (define sum? (lambda (exp) (and (list? exp) (equal? (car exp) (quote +)))))\n",
    "\n",
    "  (define product? (lambda (exp) (and (list? exp) (equal? (car exp) (quote *)))))\n",
    "\n",
    "  (define make-sum (lambda (a1 a2)\n",
    "    (if (equal? a1 0) a2\n",
    "        (if (equal? a2 0) a1\n",
    "            (list (quote +) a1 a2)))))\n",
    "  \n",
    "  (define make-product (lambda (m1 m2)\n",
    "    (if (equal? m1 1) m2\n",
    "        (if (equal? m2 1) m1\n",
    "            (if (or (equal? m1 0) (equal? m2 0)) 0\n",
    "                (list (quote *) m1 m2))))))\n",
    "\n",
    "  (define a1 (lambda (l) (car (cdr l))))\n",
    "\n",
    "  (define a2 (lambda (l) (car (cdr (cdr l)))))\n",
    "\n",
    "  (define m1 a1)\n",
    "\n",
    "  (define m2 a2)\n",
    "\n",
    "  (deriv (quote (+ (* x x) (* 2 x))) (quote x))\n",
    ")\n",
    "\"\"\"\n",
    "evaluate(p8)"
   ]
  },
  {
   "cell_type": "code",
   "execution_count": null,
   "metadata": {},
   "outputs": [],
   "source": []
  }
 ],
 "metadata": {
  "interpreter": {
   "hash": "b3ba2566441a7c06988d0923437866b63cedc61552a5af99d1f4fb67d367b25f"
  },
  "kernelspec": {
   "display_name": "Python 3.7.6 64-bit ('base': conda)",
   "language": "python",
   "name": "python3"
  },
  "language_info": {
   "codemirror_mode": {
    "name": "ipython",
    "version": 3
   },
   "file_extension": ".py",
   "mimetype": "text/x-python",
   "name": "python",
   "nbconvert_exporter": "python",
   "pygments_lexer": "ipython3",
   "version": "3.7.6"
  },
  "orig_nbformat": 4
 },
 "nbformat": 4,
 "nbformat_minor": 2
}
