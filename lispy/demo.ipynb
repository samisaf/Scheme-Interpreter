{
 "cells": [
  {
   "cell_type": "code",
   "execution_count": 17,
   "metadata": {},
   "outputs": [],
   "source": [
    "from lis import evaluate"
   ]
  },
  {
   "cell_type": "code",
   "execution_count": 18,
   "metadata": {},
   "outputs": [
    {
     "data": {
      "text/plain": [
       "314.1592653589793"
      ]
     },
     "execution_count": 18,
     "metadata": {},
     "output_type": "execute_result"
    }
   ],
   "source": [
    "p1 = \"(begin (define r 10) (* pi (* r r)))\"\n",
    "evaluate(p1)"
   ]
  },
  {
   "cell_type": "code",
   "execution_count": 19,
   "metadata": {},
   "outputs": [
    {
     "data": {
      "text/plain": [
       "1"
      ]
     },
     "execution_count": 19,
     "metadata": {},
     "output_type": "execute_result"
    }
   ],
   "source": [
    "p2 = (\"(car (list 1 2 3 4))\")\n",
    "evaluate(p2)"
   ]
  },
  {
   "cell_type": "code",
   "execution_count": 29,
   "metadata": {},
   "outputs": [
    {
     "name": "stdout",
     "output_type": "stream",
     "text": [
      "1.24 ms ± 3.04 µs per loop (mean ± std. dev. of 7 runs, 1000 loops each)\n"
     ]
    },
    {
     "data": {
      "text/plain": [
       "93326215443944152681699238856266700490715968264381621468592963895217599993229915608941463976156518286253697920827223758251185210916864000000000000000000000000"
      ]
     },
     "execution_count": 29,
     "metadata": {},
     "output_type": "execute_result"
    }
   ],
   "source": [
    "p3 = \"\"\"\n",
    "(begin \n",
    "  (define fact (lambda (n) (if (<= n 1) 1 (* n (fact (- n 1))))))\n",
    "  (fact 100)\n",
    ")\n",
    "\"\"\"\n",
    "%timeit evaluate(p3)\n",
    "evaluate(p3)"
   ]
  },
  {
   "cell_type": "code",
   "execution_count": 27,
   "metadata": {},
   "outputs": [
    {
     "name": "stdout",
     "output_type": "stream",
     "text": [
      "13.5 µs ± 37.3 ns per loop (mean ± std. dev. of 7 runs, 100000 loops each)\n"
     ]
    },
    {
     "data": {
      "text/plain": [
       "93326215443944152681699238856266700490715968264381621468592963895217599993229915608941463976156518286253697920827223758251185210916864000000000000000000000000"
      ]
     },
     "execution_count": 27,
     "metadata": {},
     "output_type": "execute_result"
    }
   ],
   "source": [
    "fact = lambda n: 1 if n<=1 else n * fact(n-1)\n",
    "%timeit fact(100)\n",
    "fact(100)\n"
   ]
  },
  {
   "cell_type": "code",
   "execution_count": 21,
   "metadata": {},
   "outputs": [
    {
     "data": {
      "text/plain": [
       "20"
      ]
     },
     "execution_count": 21,
     "metadata": {},
     "output_type": "execute_result"
    }
   ],
   "source": [
    "p4 = \"\"\"\n",
    "(begin \n",
    "  (define twice (lambda (x) (* 2 x)))\n",
    "  (twice 10)\n",
    ")\n",
    "\"\"\"\n",
    "\n",
    "evaluate(p4)"
   ]
  },
  {
   "cell_type": "code",
   "execution_count": 22,
   "metadata": {},
   "outputs": [
    {
     "name": "stdout",
     "output_type": "stream",
     "text": [
      "1.83 ms ± 7.82 µs per loop (mean ± std. dev. of 7 runs, 1000 loops each)\n"
     ]
    },
    {
     "data": {
      "text/plain": [
       "89"
      ]
     },
     "execution_count": 22,
     "metadata": {},
     "output_type": "execute_result"
    }
   ],
   "source": [
    "p5 = \"\"\"\n",
    "(begin\n",
    "  (define fib (lambda (n) (if (< n 2) 1 (+ (fib (- n 1)) (fib (- n 2))))))\n",
    "  (fib 10)\n",
    ")\n",
    "\"\"\"\n",
    "%timeit evaluate(p5)\n",
    "evaluate(p5)"
   ]
  },
  {
   "cell_type": "code",
   "execution_count": 23,
   "metadata": {},
   "outputs": [
    {
     "name": "stdout",
     "output_type": "stream",
     "text": [
      "13.9 µs ± 45.7 ns per loop (mean ± std. dev. of 7 runs, 100000 loops each)\n"
     ]
    },
    {
     "data": {
      "text/plain": [
       "89"
      ]
     },
     "execution_count": 23,
     "metadata": {},
     "output_type": "execute_result"
    }
   ],
   "source": [
    "fib = lambda n: 1 if n < 2 else fib(n - 1) + fib (n - 2)\n",
    "%timeit fib(10)\n",
    "fib(10)"
   ]
  },
  {
   "cell_type": "code",
   "execution_count": 24,
   "metadata": {},
   "outputs": [
    {
     "name": "stdout",
     "output_type": "stream",
     "text": [
      "['\"Move\"', 1, '\"from\"', '\"One\"', '\"to\"', '\"Three\"']\n",
      "['\"Move\"', 2, '\"from\"', '\"One\"', '\"to\"', '\"Two\"']\n",
      "['\"Move\"', 1, '\"from\"', '\"Three\"', '\"to\"', '\"Two\"']\n",
      "['\"Move\"', 3, '\"from\"', '\"One\"', '\"to\"', '\"Three\"']\n",
      "['\"Move\"', 1, '\"from\"', '\"Two\"', '\"to\"', '\"One\"']\n",
      "['\"Move\"', 2, '\"from\"', '\"Two\"', '\"to\"', '\"Three\"']\n",
      "['\"Move\"', 1, '\"from\"', '\"One\"', '\"to\"', '\"Three\"']\n"
     ]
    },
    {
     "data": {
      "text/plain": [
       "'\"Done_Moving\"'"
      ]
     },
     "execution_count": 24,
     "metadata": {},
     "output_type": "execute_result"
    }
   ],
   "source": [
    "p6 = \"\"\"\n",
    "(begin\n",
    "  (define move (lambda (n from to spare)\n",
    "    (if \n",
    "      (= 0 n) \"Done_Moving\"\n",
    "      (begin\n",
    "        (move (- n 1) from spare to)\n",
    "        (print (list \"Move\" n \"from\" from \"to\" to))\n",
    "        (move (- n 1) spare to from)\n",
    "      )\n",
    "    ))\n",
    ")\n",
    "  (move 3 \"One\" \"Three\" \"Two\")\n",
    ")\n",
    "\"\"\"\n",
    "\n",
    "evaluate(p6)"
   ]
  },
  {
   "cell_type": "code",
   "execution_count": 25,
   "metadata": {},
   "outputs": [
    {
     "data": {
      "text/plain": [
       "1.4142135623754424"
      ]
     },
     "execution_count": 25,
     "metadata": {},
     "output_type": "execute_result"
    }
   ],
   "source": [
    "p7 =\"\"\"\n",
    "(begin\n",
    "  (define threshold 1e-6)\n",
    "    \n",
    "  (define newton (lambda (f guess)\n",
    "    (fixed-point (lambda (x) (- x (/ (f x) ((derive f threshold) x)))) guess)))\n",
    "\n",
    "  (define derive (lambda (f dx)\n",
    "    (lambda (x) (/ (- (f (+ x dx)) (f x)) dx))))\n",
    "\n",
    "  (define close-enough? (lambda (x y)\n",
    "    (< (abs (- x y)) threshold)))\n",
    "    \n",
    "  (define fixed-point (lambda (f n)\n",
    "    (if (close-enough? n (f n))\n",
    "        n\n",
    "        (fixed-point f (f n)))))\n",
    "\n",
    "  (define jazr (lambda (y)\n",
    "    (newton (lambda (x) (- y (* x x)))  1.0)))\n",
    "\n",
    "  (jazr 2)\n",
    ")\n",
    "\"\"\"\n",
    "\n",
    "evaluate(p7)"
   ]
  },
  {
   "cell_type": "code",
   "execution_count": null,
   "metadata": {},
   "outputs": [],
   "source": []
  }
 ],
 "metadata": {
  "interpreter": {
   "hash": "b3ba2566441a7c06988d0923437866b63cedc61552a5af99d1f4fb67d367b25f"
  },
  "kernelspec": {
   "display_name": "Python 3.7.6 64-bit ('base': conda)",
   "language": "python",
   "name": "python3"
  },
  "language_info": {
   "codemirror_mode": {
    "name": "ipython",
    "version": 3
   },
   "file_extension": ".py",
   "mimetype": "text/x-python",
   "name": "python",
   "nbconvert_exporter": "python",
   "pygments_lexer": "ipython3",
   "version": "3.7.6"
  },
  "orig_nbformat": 4
 },
 "nbformat": 4,
 "nbformat_minor": 2
}
