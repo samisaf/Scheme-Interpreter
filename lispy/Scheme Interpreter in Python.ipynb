{
 "cells": [
  {
   "cell_type": "code",
   "execution_count": 13,
   "metadata": {},
   "outputs": [
    {
     "name": "stdout",
     "output_type": "stream",
     "text": [
      "import math\r\n",
      "import operator\r\n",
      "from collections import namedtuple\r\n",
      "import sys\r\n",
      "\r\n",
      "### Type Definitions\r\n",
      "Symbol = str              # A Scheme Symbol is implemented as a Python str\r\n",
      "Number = (int, float)     # A Scheme Number is implemented as a Python int or float\r\n",
      "Atom   = (Symbol, Number) # A Scheme Atom is a Symbol or Number\r\n",
      "List   = list             # A Scheme List is implemented as a Python list\r\n",
      "Exp    = (Atom, List)     # A Scheme expression is an Atom or List\r\n",
      "# A Scheme environment is a mapping of {variable: value}, an environment may refer to a parent environment\r\n",
      "Env    = namedtuple('Env', ['table', 'outer']) \r\n",
      "# A Scheme procedure has parameter, and body, and it is defined in an environment\r\n",
      "Proc = namedtuple('Proc', ['parms', 'body', 'env'])\r\n",
      "\r\n",
      "### Parsing\r\n",
      "def tokenize(chars: str) -> list:\r\n",
      "  \"\"\"Converts a string of characters into a list of tokens.\"\"\"\r\n",
      "  return chars.replace('(', ' ( ').replace(')', ' ) ').split()\r\n",
      "\r\n",
      "def parse(program: str) -> Exp:\r\n",
      "  \"\"\"Reads Scheme program from a string\"\"\"\r\n",
      "  return parse_tokens(tokenize(program))\r\n",
      "\r\n",
      "def parse_tokens(tokens: list) -> Exp:\r\n",
      "  \"\"\"Reads an expression from a sequence of tokens.\"\"\"\r\n",
      "  if len(tokens) == 0: raise SyntaxError('unexpected EOF')\r\n",
      "  token = tokens.pop(0)\r\n",
      "  if token == '(':\r\n",
      "      L = []\r\n",
      "      while tokens[0] != ')': L.append(parse_tokens(tokens))\r\n",
      "      tokens.pop(0) # pop off ')'\r\n",
      "      return L\r\n",
      "  elif token == ')': raise SyntaxError('unexpected )')\r\n",
      "  else: return atom(token)\r\n",
      "\r\n",
      "def atom(token: str) -> Atom:\r\n",
      "    \"\"\"Numbers become numbers; every other token is a symbol.\"\"\"\r\n",
      "    try: return int(token)\r\n",
      "    except ValueError:\r\n",
      "        try: return float(token)\r\n",
      "        except ValueError:\r\n",
      "            return Symbol(token) # token is symbol\r\n",
      "\r\n",
      "### Creating an environment object\r\n",
      "def createEnv(table = {}, outer = None) -> Env:\r\n",
      "  \"\"\"An environment: a dict of {'var':val} pairs, with an outer Env\"\"\"\r\n",
      "  return Env(table, outer)\r\n",
      "\r\n",
      "def searchEnv(var, env) -> Env:\r\n",
      "  \"\"\"Find the innermost Env where var appears.\"\"\"\r\n",
      "  if var in env.table: return env\r\n",
      "  elif env.outer == None: return None\r\n",
      "  else: return searchEnv(var, env.outer)\r\n",
      "\r\n",
      "### Creating a procedure object\r\n",
      "def createProc(parms, body, env) -> Proc: \r\n",
      "    \"\"\"A user-defined Scheme procedure.\"\"\"\r\n",
      "    return Proc(parms, body, env)\r\n",
      "\r\n",
      "def callProc(proc: Proc, *args) -> Exp:\r\n",
      "  \"\"\"Calls a procedure with given arguments\"\"\"\r\n",
      "  newenv = createEnv(dict(zip(proc.parms, args)), proc.env)\r\n",
      "  return eval(proc.body, newenv)\r\n",
      "\r\n",
      "### Building a basic Scheme environment\r\n",
      "def standardEnv() -> Env:\r\n",
      "  \"\"\"An environment with some Scheme standard procedures.\"\"\"\r\n",
      "  env = createEnv()\r\n",
      "  funcs1 = vars(math) # sin, cos, sqrt, pi, ...\r\n",
      "  funcs2 = {\r\n",
      "      '+':       operator.add, \r\n",
      "      '-':       operator.sub, \r\n",
      "      '*':       operator.mul, \r\n",
      "      '/':       operator.truediv, \r\n",
      "      '>':       operator.gt, \r\n",
      "      '<':       operator.lt, \r\n",
      "      '>=':      operator.ge, \r\n",
      "      '<=':      operator.le, \r\n",
      "      '=':       operator.eq, \r\n",
      "      'abs':     abs,\r\n",
      "      'append':  operator.add,  \r\n",
      "      'apply':   lambda proc, args: proc(*args),\r\n",
      "      'begin':   lambda *x: x[-1],\r\n",
      "      'car':     lambda x: x[0],\r\n",
      "      'cdr':     lambda x: x[1:], \r\n",
      "      'cons':    lambda x,y: [x] + y,\r\n",
      "      'eq?':     operator.is_, \r\n",
      "      'expt':    pow,\r\n",
      "      'equal?':  operator.eq, \r\n",
      "      'length':  len, \r\n",
      "      'list':    lambda *x: List(x), \r\n",
      "      'list?':   lambda x: isinstance(x, List), \r\n",
      "      'map':     map,\r\n",
      "      'max':     max,\r\n",
      "      'min':     min,\r\n",
      "      'not':     operator.not_,\r\n",
      "      'and':     operator.and_,\r\n",
      "      'or':     operator.or_,\r\n",
      "      'null?':   lambda x: x == [], \r\n",
      "      'number?': lambda x: isinstance(x, Number),  \r\n",
      "      'print':   print,\r\n",
      "      'procedure?': lambda p: callable(p) or isinstance(p, Proc),\r\n",
      "      'round':   round,\r\n",
      "      'symbol?': lambda x: isinstance(x, Symbol),\r\n",
      "  }\r\n",
      "  env.table.update(funcs1)\r\n",
      "  env.table.update(funcs2)\r\n",
      "  return env\r\n",
      "\r\n",
      "globalEnv = standardEnv()\r\n",
      "\r\n",
      "### Evaluation\r\n",
      "def eval(exp, env=globalEnv) -> Exp:\r\n",
      "  \"\"\"Evaluates an expression in an environment.\"\"\"\r\n",
      "  # string literal, note that strings can't contain empty spaces \r\n",
      "  # given limitation with parser\r\n",
      "  if isinstance(exp, Symbol) and exp.startswith('\"'): return exp[1:-1]\r\n",
      "  # variable reference\r\n",
      "  elif isinstance(exp, Symbol): return searchEnv(exp, env).table[exp]\r\n",
      "  # constant number   \r\n",
      "  elif isinstance(exp, Number): return exp\r\n",
      "  # list expression\r\n",
      "  elif isinstance(exp, List):\r\n",
      "    operator, *args = exp\r\n",
      "    return apply(operator, args, env)\r\n",
      "  else:\r\n",
      "    raise SyntaxError('unexpected expression')\r\n",
      "\r\n",
      "def apply(operator, args, env):\r\n",
      "  # quotation\r\n",
      "  if operator == 'quote': \r\n",
      "    return args[0]\r\n",
      "  # conditional\r\n",
      "  elif operator == 'if':\r\n",
      "    (test, conseq, alt) = args\r\n",
      "    exp = (conseq if eval(test, env) else alt)\r\n",
      "    return eval(exp, env)\r\n",
      "  # definition\r\n",
      "  elif operator == 'define':\r\n",
      "    (symbol, definition) = args\r\n",
      "    env.table[symbol] = eval(definition, env)\r\n",
      "  # set\r\n",
      "  elif operator == 'set!':\r\n",
      "    (symbol, definition) = args\r\n",
      "    searchEnv(symbol, env).table[symbol] = eval(definition, env)\r\n",
      "  # procedure\r\n",
      "  elif operator == 'lambda':         \r\n",
      "    (parms, body) = args\r\n",
      "    return createProc(parms, body, env)\r\n",
      "  # procedure call\r\n",
      "  else:\r\n",
      "    proc = eval(operator, env)\r\n",
      "    vals = [eval(arg, env) for arg in args]\r\n",
      "    if isinstance(proc, Proc): \r\n",
      "      return callProc(proc, *vals) # procedures defined using lambda\r\n",
      "    else: \r\n",
      "      return proc(*vals) # built in procedures which are python functions\r\n",
      "\r\n",
      "def evaluate(text):\r\n",
      "    return eval(parse(text))\r\n",
      "\r\n",
      "### Creatine a real eval print loop\r\n",
      "def repl(prompt='lis.py> '):\r\n",
      "    \"A prompt-read-eval-print loop.\"\r\n",
      "    while True:\r\n",
      "        val = eval(parse(input(prompt)))\r\n",
      "        if val is not None: \r\n",
      "            print(schemestr(val))\r\n",
      "\r\n",
      "def schemestr(exp):\r\n",
      "    \"Convert a Python object back into a Scheme-readable string.\"\r\n",
      "    if isinstance(exp, List):\r\n",
      "        return '(' + ' '.join(map(schemestr, exp)) + ')' \r\n",
      "    else:\r\n",
      "        return str(exp)\r\n",
      "\r\n",
      "### Run program\r\n",
      "if __name__==\"__main__\": \r\n",
      "  if len(sys.argv) == 1: repl()\r\n",
      "  else:\r\n",
      "    file = open(sys.argv[1])\r\n",
      "    lines = file.readlines()\r\n",
      "    program = ''.join(lines)\r\n",
      "    file.close()\r\n",
      "    evaluate(program)\r\n",
      "\r\n"
     ]
    }
   ],
   "source": [
    "!cat scheme.py"
   ]
  },
  {
   "cell_type": "code",
   "execution_count": 1,
   "metadata": {},
   "outputs": [],
   "source": [
    "from scheme import evaluate"
   ]
  },
  {
   "cell_type": "code",
   "execution_count": 2,
   "metadata": {},
   "outputs": [
    {
     "name": "stdout",
     "output_type": "stream",
     "text": [
      "1 2 3 Hello\n"
     ]
    }
   ],
   "source": [
    "p0 = '(print 1 2 3 \"Hello\")'\n",
    "evaluate(p0)"
   ]
  },
  {
   "cell_type": "code",
   "execution_count": 3,
   "metadata": {},
   "outputs": [
    {
     "data": {
      "text/plain": [
       "314.1592653589793"
      ]
     },
     "execution_count": 3,
     "metadata": {},
     "output_type": "execute_result"
    }
   ],
   "source": [
    "p1 = \"(begin (define r 10) (* pi (* r r)))\"\n",
    "evaluate(p1)"
   ]
  },
  {
   "cell_type": "code",
   "execution_count": 4,
   "metadata": {},
   "outputs": [
    {
     "data": {
      "text/plain": [
       "1"
      ]
     },
     "execution_count": 4,
     "metadata": {},
     "output_type": "execute_result"
    }
   ],
   "source": [
    "p2 = (\"(car (list 1 2 3 4))\")\n",
    "evaluate(p2)"
   ]
  },
  {
   "cell_type": "code",
   "execution_count": 5,
   "metadata": {},
   "outputs": [
    {
     "name": "stdout",
     "output_type": "stream",
     "text": [
      "862 µs ± 10.7 µs per loop (mean ± std. dev. of 7 runs, 1000 loops each)\n"
     ]
    },
    {
     "data": {
      "text/plain": [
       "93326215443944152681699238856266700490715968264381621468592963895217599993229915608941463976156518286253697920827223758251185210916864000000000000000000000000"
      ]
     },
     "execution_count": 5,
     "metadata": {},
     "output_type": "execute_result"
    }
   ],
   "source": [
    "p3 = \"\"\"\n",
    "(begin \n",
    "  (define fact (lambda (n) (if (<= n 1) 1 (* n (fact (- n 1))))))\n",
    "  (fact 100)\n",
    ")\n",
    "\"\"\"\n",
    "%timeit evaluate(p3)\n",
    "evaluate(p3)"
   ]
  },
  {
   "cell_type": "code",
   "execution_count": 6,
   "metadata": {},
   "outputs": [
    {
     "name": "stdout",
     "output_type": "stream",
     "text": [
      "12.1 µs ± 152 ns per loop (mean ± std. dev. of 7 runs, 100000 loops each)\n"
     ]
    },
    {
     "data": {
      "text/plain": [
       "93326215443944152681699238856266700490715968264381621468592963895217599993229915608941463976156518286253697920827223758251185210916864000000000000000000000000"
      ]
     },
     "execution_count": 6,
     "metadata": {},
     "output_type": "execute_result"
    }
   ],
   "source": [
    "fact = lambda n: 1 if n<=1 else n * fact(n-1)\n",
    "%timeit fact(100)\n",
    "fact(100)"
   ]
  },
  {
   "cell_type": "code",
   "execution_count": 7,
   "metadata": {},
   "outputs": [
    {
     "data": {
      "text/plain": [
       "20"
      ]
     },
     "execution_count": 7,
     "metadata": {},
     "output_type": "execute_result"
    }
   ],
   "source": [
    "p4 = \"\"\"\n",
    "(begin \n",
    "  (define twice (lambda (x) (* 2 x)))\n",
    "  (twice 10)\n",
    ")\n",
    "\"\"\"\n",
    "evaluate(p4)"
   ]
  },
  {
   "cell_type": "code",
   "execution_count": 8,
   "metadata": {},
   "outputs": [
    {
     "name": "stdout",
     "output_type": "stream",
     "text": [
      "1.23 ms ± 7.13 µs per loop (mean ± std. dev. of 7 runs, 1000 loops each)\n"
     ]
    },
    {
     "data": {
      "text/plain": [
       "89"
      ]
     },
     "execution_count": 8,
     "metadata": {},
     "output_type": "execute_result"
    }
   ],
   "source": [
    "p5 = \"\"\"\n",
    "(begin\n",
    "  (define fib (lambda (n) (if (< n 2) 1 (+ (fib (- n 1)) (fib (- n 2))))))\n",
    "  (fib 10)\n",
    ")\n",
    "\"\"\"\n",
    "%timeit evaluate(p5)\n",
    "evaluate(p5)"
   ]
  },
  {
   "cell_type": "code",
   "execution_count": 9,
   "metadata": {},
   "outputs": [
    {
     "name": "stdout",
     "output_type": "stream",
     "text": [
      "13.6 µs ± 43.1 ns per loop (mean ± std. dev. of 7 runs, 100000 loops each)\n"
     ]
    },
    {
     "data": {
      "text/plain": [
       "89"
      ]
     },
     "execution_count": 9,
     "metadata": {},
     "output_type": "execute_result"
    }
   ],
   "source": [
    "fib = lambda n: 1 if n < 2 else fib(n - 1) + fib (n - 2)\n",
    "%timeit fib(10)\n",
    "fib(10)"
   ]
  },
  {
   "cell_type": "code",
   "execution_count": 10,
   "metadata": {},
   "outputs": [
    {
     "name": "stdout",
     "output_type": "stream",
     "text": [
      "Move 1 from A to B\n",
      "Move 2 from A to C\n",
      "Move 1 from B to C\n",
      "Move 3 from A to B\n",
      "Move 1 from C to A\n",
      "Move 2 from C to B\n",
      "Move 1 from A to B\n"
     ]
    },
    {
     "data": {
      "text/plain": [
       "'Done_Moving'"
      ]
     },
     "execution_count": 10,
     "metadata": {},
     "output_type": "execute_result"
    }
   ],
   "source": [
    "p6 = \"\"\"\n",
    "(begin\n",
    "  (define move (lambda (n from to spare)\n",
    "    (if \n",
    "      (= 0 n) \"Done_Moving\"\n",
    "      (begin\n",
    "        (move (- n 1) from spare to)\n",
    "        (print \"Move\" n \"from\" from \"to\" to)\n",
    "        (move (- n 1) spare to from)\n",
    "      )\n",
    "    ))\n",
    ")\n",
    "  (move 3 \"A\" \"B\" \"C\")\n",
    ")\n",
    "\"\"\"\n",
    "\n",
    "evaluate(p6)"
   ]
  },
  {
   "cell_type": "code",
   "execution_count": 11,
   "metadata": {},
   "outputs": [
    {
     "name": "stdout",
     "output_type": "stream",
     "text": [
      "562 µs ± 4.51 µs per loop (mean ± std. dev. of 7 runs, 1000 loops each)\n"
     ]
    },
    {
     "data": {
      "text/plain": [
       "1.4142135623754424"
      ]
     },
     "execution_count": 11,
     "metadata": {},
     "output_type": "execute_result"
    }
   ],
   "source": [
    "p7 =\"\"\"\n",
    "(begin\n",
    "  (define threshold 1e-6)\n",
    "  (define dx 1e-3)\n",
    "  \n",
    "  (define newton (lambda (f guess)\n",
    "    (fixed-point (lambda (x) (- x (/ (f x) ((derive f threshold) x)))) guess)))\n",
    "\n",
    "  (define derive (lambda (f dx)\n",
    "    (lambda (x) (/ (- (f (+ x dx)) (f x)) dx))))\n",
    "\n",
    "  (define close-enough? (lambda (x y)\n",
    "    (< (abs (- x y)) threshold)))\n",
    "    \n",
    "  (define fixed-point (lambda (f n)\n",
    "    (if (close-enough? n (f n))\n",
    "        n\n",
    "        (fixed-point f (f n)))))\n",
    "\n",
    "  (define jazr (lambda (y)\n",
    "    (newton (lambda (x) (- y (* x x)))  1.0)))\n",
    "\n",
    "  (jazr 2)\n",
    ")\n",
    "\"\"\"\n",
    "%timeit evaluate(p7)\n",
    "evaluate(p7)"
   ]
  },
  {
   "cell_type": "code",
   "execution_count": 12,
   "metadata": {},
   "outputs": [
    {
     "name": "stdout",
     "output_type": "stream",
     "text": [
      "753 µs ± 922 ns per loop (mean ± std. dev. of 7 runs, 1000 loops each)\n"
     ]
    },
    {
     "data": {
      "text/plain": [
       "['+', ['+', 'x', 'x'], 2]"
      ]
     },
     "execution_count": 12,
     "metadata": {},
     "output_type": "execute_result"
    }
   ],
   "source": [
    "p8 = \"\"\"\n",
    "(begin\n",
    "  (define deriv (lambda (exp var)\n",
    "    (if (constant? exp var) 0\n",
    "        (if  (same-var? exp var) 1\n",
    "             (if (sum? exp) (make-sum (deriv (a1 exp) var) (deriv (a2 exp) var))\n",
    "                 (if (product? exp) (make-sum\n",
    "                           (make-product (m1 exp) (deriv (m2 exp) var))\n",
    "                           (make-product (m2 exp) (deriv (m1 exp) var)))\n",
    "                     \"ERROR\"))))))\n",
    "         \n",
    "  (define atomic? (lambda (exp) (not (list? exp))))\n",
    "\n",
    "  (define constant? (lambda (exp var) (and (atomic? exp) (not (equal? exp var)))))\n",
    "\n",
    "  (define same-var? (lambda (exp var) (and (atomic? exp) (equal? exp var))))\n",
    "\n",
    "  (define sum? (lambda (exp) (and (list? exp) (equal? (car exp) (quote +)))))\n",
    "\n",
    "  (define product? (lambda (exp) (and (list? exp) (equal? (car exp) (quote *)))))\n",
    "\n",
    "  (define make-sum (lambda (a1 a2)\n",
    "    (if (equal? a1 0) a2\n",
    "        (if (equal? a2 0) a1\n",
    "            (list (quote +) a1 a2)))))\n",
    "  \n",
    "  (define make-product (lambda (m1 m2)\n",
    "    (if (equal? m1 1) m2\n",
    "        (if (equal? m2 1) m1\n",
    "            (if (or (equal? m1 0) (equal? m2 0)) 0\n",
    "                (list (quote *) m1 m2))))))\n",
    "\n",
    "  (define a1 (lambda (l) (car (cdr l))))\n",
    "\n",
    "  (define a2 (lambda (l) (car (cdr (cdr l)))))\n",
    "\n",
    "  (define m1 a1)\n",
    "\n",
    "  (define m2 a2)\n",
    "\n",
    "  (deriv (quote (+ (* x x) (* 2 x))) (quote x))\n",
    ")\n",
    "\"\"\"\n",
    "%timeit evaluate(p8)\n",
    "evaluate(p8)"
   ]
  }
 ],
 "metadata": {
  "@webio": {
   "lastCommId": null,
   "lastKernelId": null
  },
  "interpreter": {
   "hash": "b3ba2566441a7c06988d0923437866b63cedc61552a5af99d1f4fb67d367b25f"
  },
  "kernelspec": {
   "display_name": "Python 3",
   "language": "python",
   "name": "python3"
  },
  "language_info": {
   "codemirror_mode": {
    "name": "ipython",
    "version": 3
   },
   "file_extension": ".py",
   "mimetype": "text/x-python",
   "name": "python",
   "nbconvert_exporter": "python",
   "pygments_lexer": "ipython3",
   "version": "3.8.8"
  }
 },
 "nbformat": 4,
 "nbformat_minor": 2
}
